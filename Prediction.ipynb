{
 "cells": [
  {
   "cell_type": "code",
   "execution_count": null,
   "metadata": {
    "colab": {
     "base_uri": "https://localhost:8080/"
    },
    "id": "0I7YkSOtjbKJ",
    "outputId": "194ae5d8-db78-4994-db59-2044824a096b"
   },
   "outputs": [
    {
     "name": "stdout",
     "output_type": "stream",
     "text": [
      "Mounted at /content/drive\n"
     ]
    }
   ],
   "source": [
    "# Mounting drive\n",
    "\n",
    "from google.colab import drive\n",
    "drive.mount('/content/drive')\n"
   ]
  },
  {
   "cell_type": "code",
   "execution_count": null,
   "metadata": {},
   "outputs": [],
   "source": [
    "# Cropping the images\n",
    "\n",
    "import cv2\n",
    "import numpy as np\n",
    "import os\n",
    "\n",
    "def crop_circle(image_path, save_path):\n",
    "    image = cv2.imread(image_path, cv2.IMREAD_COLOR)\n",
    "    gray = cv2.cvtColor(image, cv2.COLOR_BGR2GRAY)\n",
    "\n",
    "    # Detect circles using HoughCircles\n",
    "    circles = cv2.HoughCircles(gray, cv2.HOUGH_GRADIENT, dp=1.2, minDist=50, param1=50, param2=30, minRadius=20, maxRadius=500)\n",
    "\n",
    "    if circles is not None:\n",
    "        circles = np.uint16(np.around(circles))\n",
    "        x, y, r = circles[0][0]  # Assume the largest detected circle\n",
    "\n",
    "        # Crop the circular region\n",
    "        mask = np.zeros_like(image, dtype=np.uint8)\n",
    "        cv2.circle(mask, (x, y), r, (255, 255, 255), -1)\n",
    "\n",
    "        # Apply the mask\n",
    "        cropped = cv2.bitwise_and(image, mask)\n",
    "\n",
    "        # Extract bounding box around the circle\n",
    "        x1, y1, x2, y2 = x - r, y - r, x + r, y + r\n",
    "        cropped = cropped[y1:y2, x1:x2]\n",
    "\n",
    "        cv2.imwrite(save_path, cropped)\n",
    "        return True\n",
    "\n",
    "    return False\n",
    "\n",
    "def process_images(drive_folder_path, save_folder):\n",
    "    if not os.path.exists(save_folder):\n",
    "        os.makedirs(save_folder)\n",
    "\n",
    "    for filename in os.listdir(drive_folder_path):\n",
    "        if filename.lower().endswith(('.tif')):\n",
    "            image_path = os.path.join(drive_folder_path, filename)\n",
    "            save_path = os.path.join(save_folder, filename)\n",
    "            crop_circle(image_path, save_path)\n",
    "\n",
    "drive_folder_path = \"/content/drive/MyDrive/Porosity/Binary\"\n",
    "save_folder = \"/content/drive/MyDrive/Porosity/Cropped Binary\"\n",
    "\n",
    "process_images(drive_folder_path, save_folder)"
   ]
  },
  {
   "cell_type": "code",
   "execution_count": null,
   "metadata": {
    "colab": {
     "base_uri": "https://localhost:8080/"
    },
    "id": "62C0Yo-Wji0j",
    "outputId": "c7b4ff94-1ff5-44f6-db78-14d95abd57d5"
   },
   "outputs": [
    {
     "name": "stderr",
     "output_type": "stream",
     "text": [
      "WARNING:absl:Compiled the loaded model, but the compiled metrics have yet to be built. `model.compile_metrics` will be empty until you train or evaluate the model.\n"
     ]
    }
   ],
   "source": [
    "# loading the pretrained U-Net model in my drive\n",
    "\n",
    "import tensorflow as tf\n",
    "\n",
    "model_path = '/content/drive/MyDrive/Porosity DL Project/unet_microstructure_segmentation.h5' # Replace with the actual path\n",
    "\n",
    "model = tf.keras.models.load_model(model_path)"
   ]
  },
  {
   "cell_type": "code",
   "execution_count": null,
   "metadata": {
    "colab": {
     "base_uri": "https://localhost:8080/"
    },
    "id": "wkJ2wXDYkjh3",
    "outputId": "db8cd751-9150-4c33-ff82-e6d7b234d095"
   },
   "outputs": [
    {
     "name": "stdout",
     "output_type": "stream",
     "text": [
      "Porosity Statistics:\n",
      " Total Images: 1700\n",
      " Min Porosity: 0.51%\n",
      " Max Porosity: 9.08%\n",
      " Mean Porosity: 1.61%\n",
      "Porosity Statistics:\n",
      " Total Images: 1700\n",
      " Min Porosity: 0.51%\n",
      " Max Porosity: 9.08%\n",
      " Mean Porosity: 1.61%\n"
     ]
    }
   ],
   "source": [
    "import cv2\n",
    "import numpy as np\n",
    "import os\n",
    "\n",
    "# ------------------- Set Paths -------------------\n",
    "input_folder = \"/content/drive/MyDrive/Porosity/Cropped Binary\"  # Folder containing binary images\n",
    "\n",
    "# List to store results\n",
    "results = []\n",
    "\n",
    "# Loop through images\n",
    "for filename in os.listdir(input_folder):\n",
    "    if filename.endswith(\".tif\"):\n",
    "        image_path = os.path.join(input_folder, filename)\n",
    "\n",
    "        # Load binary image (0 = black, 255 = white)\n",
    "        binary_img = cv2.imread(image_path, cv2.IMREAD_GRAYSCALE)\n",
    "\n",
    "        # Get image dimensions\n",
    "        height, width = binary_img.shape\n",
    "        center = (width // 2, height // 2)\n",
    "        radius = min(width, height) // 2  # Assuming the circle fits inside the square\n",
    "\n",
    "        # Create a circular mask\n",
    "        mask = np.zeros_like(binary_img)\n",
    "        cv2.circle(mask, center, radius, 255, -1)  # Draw a white circle on a black background\n",
    "\n",
    "        # Apply the mask to keep only circular region\n",
    "        circular_region = cv2.bitwise_and(binary_img, mask)\n",
    "\n",
    "        # Count total pixels inside the circle (both black and white)\n",
    "        total_pixels_in_circle = np.count_nonzero(mask == 255)\n",
    "\n",
    "        # Count black pixels (pores) inside the circle\n",
    "        black_pixels_in_circle = np.count_nonzero((circular_region == 0) & (mask == 255))\n",
    "\n",
    "        # Calculate porosity percentage\n",
    "        porosity = (black_pixels_in_circle / total_pixels_in_circle) * 100\n",
    "\n",
    "        # Store result\n",
    "        results.append(porosity)\n",
    "\n",
    "\n",
    "# Compute statistics\n",
    "if results:\n",
    "    # Compute statistics\n",
    "    count_images = len(results)\n",
    "    min_porosity = min(results)\n",
    "    max_porosity = max(results)\n",
    "    mean_porosity = sum(results) / count_images\n",
    "\n",
    "    # Print final statistics\n",
    "    print(f\"Porosity Statistics:\")\n",
    "    print(f\" Total Images: {count_images}\")\n",
    "    print(f\" Min Porosity: {min_porosity:.2f}%\")\n",
    "    print(f\" Max Porosity: {max_porosity:.2f}%\")\n",
    "    print(f\" Mean Porosity: {mean_porosity:.2f}%\")\n",
    "else:\n",
    "    print(\"No .tif or .tiff images found in the input folder.\")\n",
    "# Print final statistics\n",
    "print(f\"Porosity Statistics:\")\n",
    "print(f\" Total Images: {count_images}\")\n",
    "print(f\" Min Porosity: {min_porosity:.2f}%\")\n",
    "print(f\" Max Porosity: {max_porosity:.2f}%\")\n",
    "print(f\" Mean Porosity: {mean_porosity:.2f}%\")"
   ]
  },
  {
   "cell_type": "code",
   "execution_count": null,
   "metadata": {
    "colab": {
     "base_uri": "https://localhost:8080/",
     "height": 472
    },
    "id": "q3yFo2Rdjqyz",
    "outputId": "390b2572-0e83-4489-986a-55b99db4ba0d"
   },
   "outputs": [
    {
     "data": {
      "image/png": "[encoded data removed]",
      "text/plain": [
       "<Figure size 640x480 with 1 Axes>"
      ]
     },
     "metadata": {},
     "output_type": "display_data"
    }
   ],
   "source": [
    "# Distribution of porosity accross images\n",
    "\n",
    "import matplotlib.pyplot as plt\n",
    "\n",
    "# Assuming 'results' list contains the porosity values from the previous code\n",
    "\n",
    "# Create a histogram of the porosity distribution\n",
    "plt.hist(results, bins=10, edgecolor='black')  # Adjust 'bins' for desired granularity\n",
    "plt.xlabel('Porosity (%)')\n",
    "plt.ylabel('Number of Images')\n",
    "plt.title('Distribution of Porosity across Images')\n",
    "plt.show()\n"
   ]
  }
 ],
 "metadata": {
  "colab": {
   "provenance": []
  },
  "kernelspec": {
   "display_name": "Python 3 (ipykernel)",
   "language": "python",
   "name": "python3"
  },
  "language_info": {
   "codemirror_mode": {
    "name": "ipython",
    "version": 3
   },
   "file_extension": ".py",
   "mimetype": "text/x-python",
   "name": "python",
   "nbconvert_exporter": "python",
   "pygments_lexer": "ipython3",
   "version": "3.9.18"
  }
 },
 "nbformat": 4,
 "nbformat_minor": 1
}
